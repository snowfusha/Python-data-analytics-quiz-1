{
 "cells": [
  {
   "cell_type": "code",
   "execution_count": 1,
   "id": "3a700898-7857-48dc-acdf-4ccf4f6774c5",
   "metadata": {},
   "outputs": [],
   "source": [
    "import pandas as pd"
   ]
  },
  {
   "cell_type": "code",
   "execution_count": 3,
   "id": "0cde425b-49e7-4089-99fe-14e6b38ecef8",
   "metadata": {},
   "outputs": [],
   "source": [
    "survey_data = pd.read_csv(\"survey_results_public.csv\")"
   ]
  },
  {
   "cell_type": "code",
   "execution_count": 4,
   "id": "6a0b284b-75ae-49c5-bdd0-67068fde210e",
   "metadata": {},
   "outputs": [
    {
     "name": "stdout",
     "output_type": "stream",
     "text": [
      "First few rows of the DataFrame:\n",
      "   ResponseId     Q120                      MainBranch              Age  \\\n",
      "0           1  I agree                   None of these  18-24 years old   \n",
      "1           2  I agree  I am a developer by profession  25-34 years old   \n",
      "2           3  I agree  I am a developer by profession  45-54 years old   \n",
      "3           4  I agree  I am a developer by profession  25-34 years old   \n",
      "4           5  I agree  I am a developer by profession  25-34 years old   \n",
      "\n",
      "                                          Employment  \\\n",
      "0                                                NaN   \n",
      "1                                Employed, full-time   \n",
      "2                                Employed, full-time   \n",
      "3                                Employed, full-time   \n",
      "4  Employed, full-time;Independent contractor, fr...   \n",
      "\n",
      "                             RemoteWork  \\\n",
      "0                                   NaN   \n",
      "1                                Remote   \n",
      "2  Hybrid (some remote, some in-person)   \n",
      "3  Hybrid (some remote, some in-person)   \n",
      "4                                Remote   \n",
      "\n",
      "                                    CodingActivities  \\\n",
      "0                                                NaN   \n",
      "1  Hobby;Contribute to open-source projects;Boots...   \n",
      "2  Hobby;Professional development or self-paced l...   \n",
      "3                                              Hobby   \n",
      "4  Hobby;Contribute to open-source projects;Profe...   \n",
      "\n",
      "                                        EdLevel  \\\n",
      "0                                           NaN   \n",
      "1  Bachelor’s degree (B.A., B.S., B.Eng., etc.)   \n",
      "2  Bachelor’s degree (B.A., B.S., B.Eng., etc.)   \n",
      "3  Bachelor’s degree (B.A., B.S., B.Eng., etc.)   \n",
      "4  Bachelor’s degree (B.A., B.S., B.Eng., etc.)   \n",
      "\n",
      "                                           LearnCode  \\\n",
      "0                                                NaN   \n",
      "1  Books / Physical media;Colleague;Friend or fam...   \n",
      "2  Books / Physical media;Colleague;On the job tr...   \n",
      "3  Colleague;Friend or family member;Other online...   \n",
      "4  Books / Physical media;Online Courses or Certi...   \n",
      "\n",
      "                                     LearnCodeOnline  ...        Frequency_1  \\\n",
      "0                                                NaN  ...                NaN   \n",
      "1  Formal documentation provided by the owner of ...  ...   1-2 times a week   \n",
      "2  Formal documentation provided by the owner of ...  ...  6-10 times a week   \n",
      "3  Formal documentation provided by the owner of ...  ...   1-2 times a week   \n",
      "4  Formal documentation provided by the owner of ...  ...   1-2 times a week   \n",
      "\n",
      "         Frequency_2       Frequency_3         TimeSearching  \\\n",
      "0                NaN               NaN                   NaN   \n",
      "1   10+ times a week             Never   15-30 minutes a day   \n",
      "2  6-10 times a week  3-5 times a week   30-60 minutes a day   \n",
      "3   10+ times a week  1-2 times a week   15-30 minutes a day   \n",
      "4   1-2 times a week  3-5 times a week  60-120 minutes a day   \n",
      "\n",
      "         TimeAnswering                                   ProfessionalTech  \\\n",
      "0                  NaN                                                NaN   \n",
      "1  15-30 minutes a day  DevOps function;Microservices;Automated testin...   \n",
      "2  30-60 minutes a day  DevOps function;Microservices;Automated testin...   \n",
      "3  30-60 minutes a day  Automated testing;Continuous integration (CI) ...   \n",
      "4  30-60 minutes a day  Microservices;Automated testing;Observability ...   \n",
      "\n",
      "                                            Industry           SurveyLength  \\\n",
      "0                                                NaN                    NaN   \n",
      "1  Information Services, IT, Software Development...  Appropriate in length   \n",
      "2  Information Services, IT, Software Development...  Appropriate in length   \n",
      "3                                                NaN  Appropriate in length   \n",
      "4                                              Other  Appropriate in length   \n",
      "\n",
      "                   SurveyEase ConvertedCompYearly  \n",
      "0                         NaN                 NaN  \n",
      "1                        Easy            285000.0  \n",
      "2                        Easy            250000.0  \n",
      "3                        Easy            156000.0  \n",
      "4  Neither easy nor difficult             23456.0  \n",
      "\n",
      "[5 rows x 84 columns]\n"
     ]
    }
   ],
   "source": [
    "print(\"First few rows of the DataFrame:\")\n",
    "print(survey_data.head())"
   ]
  },
  {
   "cell_type": "code",
   "execution_count": 5,
   "id": "7336fbf4-3af0-4d28-ab85-5276f833da79",
   "metadata": {},
   "outputs": [
    {
     "name": "stdout",
     "output_type": "stream",
     "text": [
      "Desired rows and columns:\n",
      "       ResponseId     Q120                      MainBranch\n",
      "0               1  I agree                   None of these\n",
      "1               2  I agree  I am a developer by profession\n",
      "2               3  I agree  I am a developer by profession\n",
      "3               4  I agree  I am a developer by profession\n",
      "4               5  I agree  I am a developer by profession\n",
      "...           ...      ...                             ...\n",
      "89179       89180  I agree  I am a developer by profession\n",
      "89180       89181  I agree  I am a developer by profession\n",
      "89181       89182  I agree     I code primarily as a hobby\n",
      "89182       89183  I agree  I am a developer by profession\n",
      "89183       89184  I agree  I am a developer by profession\n",
      "\n",
      "[89184 rows x 3 columns]\n"
     ]
    }
   ],
   "source": [
    "# Konkretuli svetebis archeva\n",
    "desired_columns = ['ResponseId', 'Q120', 'MainBranch']\n",
    "\n",
    "# strinqonebis gafiltvra Q120 ze dafudznebit\n",
    "desired_rows = survey_data[survey_data['Q120'] == 'I agree']\n",
    "\n",
    "# Datas gamosaxva\n",
    "print(\"Desired rows and columns:\")\n",
    "print(desired_rows[desired_columns])"
   ]
  },
  {
   "cell_type": "code",
   "execution_count": 6,
   "id": "fc70980d-3fc2-479a-8426-6060c5602be5",
   "metadata": {},
   "outputs": [],
   "source": [
    "# inxexireba 'ResponseId' svetis\n",
    "survey_data.set_index('ResponseId', inplace=True)"
   ]
  },
  {
   "cell_type": "code",
   "execution_count": 7,
   "id": "0a314860-f103-4d37-8975-f4c1b00fcc6d",
   "metadata": {},
   "outputs": [
    {
     "name": "stdout",
     "output_type": "stream",
     "text": [
      "DataFrame with 'ResponseId' column as index:\n",
      "               Q120                      MainBranch              Age  \\\n",
      "ResponseId                                                             \n",
      "1           I agree                   None of these  18-24 years old   \n",
      "2           I agree  I am a developer by profession  25-34 years old   \n",
      "3           I agree  I am a developer by profession  45-54 years old   \n",
      "4           I agree  I am a developer by profession  25-34 years old   \n",
      "5           I agree  I am a developer by profession  25-34 years old   \n",
      "\n",
      "                                                   Employment  \\\n",
      "ResponseId                                                      \n",
      "1                                                         NaN   \n",
      "2                                         Employed, full-time   \n",
      "3                                         Employed, full-time   \n",
      "4                                         Employed, full-time   \n",
      "5           Employed, full-time;Independent contractor, fr...   \n",
      "\n",
      "                                      RemoteWork  \\\n",
      "ResponseId                                         \n",
      "1                                            NaN   \n",
      "2                                         Remote   \n",
      "3           Hybrid (some remote, some in-person)   \n",
      "4           Hybrid (some remote, some in-person)   \n",
      "5                                         Remote   \n",
      "\n",
      "                                             CodingActivities  \\\n",
      "ResponseId                                                      \n",
      "1                                                         NaN   \n",
      "2           Hobby;Contribute to open-source projects;Boots...   \n",
      "3           Hobby;Professional development or self-paced l...   \n",
      "4                                                       Hobby   \n",
      "5           Hobby;Contribute to open-source projects;Profe...   \n",
      "\n",
      "                                                 EdLevel  \\\n",
      "ResponseId                                                 \n",
      "1                                                    NaN   \n",
      "2           Bachelor’s degree (B.A., B.S., B.Eng., etc.)   \n",
      "3           Bachelor’s degree (B.A., B.S., B.Eng., etc.)   \n",
      "4           Bachelor’s degree (B.A., B.S., B.Eng., etc.)   \n",
      "5           Bachelor’s degree (B.A., B.S., B.Eng., etc.)   \n",
      "\n",
      "                                                    LearnCode  \\\n",
      "ResponseId                                                      \n",
      "1                                                         NaN   \n",
      "2           Books / Physical media;Colleague;Friend or fam...   \n",
      "3           Books / Physical media;Colleague;On the job tr...   \n",
      "4           Colleague;Friend or family member;Other online...   \n",
      "5           Books / Physical media;Online Courses or Certi...   \n",
      "\n",
      "                                              LearnCodeOnline  \\\n",
      "ResponseId                                                      \n",
      "1                                                         NaN   \n",
      "2           Formal documentation provided by the owner of ...   \n",
      "3           Formal documentation provided by the owner of ...   \n",
      "4           Formal documentation provided by the owner of ...   \n",
      "5           Formal documentation provided by the owner of ...   \n",
      "\n",
      "            LearnCodeCoursesCert  ...        Frequency_1        Frequency_2  \\\n",
      "ResponseId                        ...                                         \n",
      "1                            NaN  ...                NaN                NaN   \n",
      "2                          Other  ...   1-2 times a week   10+ times a week   \n",
      "3                            NaN  ...  6-10 times a week  6-10 times a week   \n",
      "4                            NaN  ...   1-2 times a week   10+ times a week   \n",
      "5           Other;Codecademy;edX  ...   1-2 times a week   1-2 times a week   \n",
      "\n",
      "                 Frequency_3         TimeSearching        TimeAnswering  \\\n",
      "ResponseId                                                                \n",
      "1                        NaN                   NaN                  NaN   \n",
      "2                      Never   15-30 minutes a day  15-30 minutes a day   \n",
      "3           3-5 times a week   30-60 minutes a day  30-60 minutes a day   \n",
      "4           1-2 times a week   15-30 minutes a day  30-60 minutes a day   \n",
      "5           3-5 times a week  60-120 minutes a day  30-60 minutes a day   \n",
      "\n",
      "                                             ProfessionalTech  \\\n",
      "ResponseId                                                      \n",
      "1                                                         NaN   \n",
      "2           DevOps function;Microservices;Automated testin...   \n",
      "3           DevOps function;Microservices;Automated testin...   \n",
      "4           Automated testing;Continuous integration (CI) ...   \n",
      "5           Microservices;Automated testing;Observability ...   \n",
      "\n",
      "                                                     Industry  \\\n",
      "ResponseId                                                      \n",
      "1                                                         NaN   \n",
      "2           Information Services, IT, Software Development...   \n",
      "3           Information Services, IT, Software Development...   \n",
      "4                                                         NaN   \n",
      "5                                                       Other   \n",
      "\n",
      "                     SurveyLength                  SurveyEase  \\\n",
      "ResponseId                                                      \n",
      "1                             NaN                         NaN   \n",
      "2           Appropriate in length                        Easy   \n",
      "3           Appropriate in length                        Easy   \n",
      "4           Appropriate in length                        Easy   \n",
      "5           Appropriate in length  Neither easy nor difficult   \n",
      "\n",
      "            ConvertedCompYearly  \n",
      "ResponseId                       \n",
      "1                           NaN  \n",
      "2                      285000.0  \n",
      "3                      250000.0  \n",
      "4                      156000.0  \n",
      "5                       23456.0  \n",
      "\n",
      "[5 rows x 83 columns]\n"
     ]
    }
   ],
   "source": [
    "print(\"DataFrame with 'ResponseId' column as index:\")\n",
    "print(survey_data.head())"
   ]
  },
  {
   "cell_type": "code",
   "execution_count": 8,
   "id": "0ed98166-f6ab-4ea7-9440-a798e2c46ae1",
   "metadata": {},
   "outputs": [],
   "source": [
    "# filtris sheqmna or parametrze dafudznebit: 'MainBranch' and 'Q120'\n",
    "filter_condition = (survey_data['MainBranch'] == 'i am a developer by profession') & (survey_data['Q120'] == 'I agree')"
   ]
  },
  {
   "cell_type": "code",
   "execution_count": 9,
   "id": "7b24fd8e-878d-4adb-be07-27a8c7952241",
   "metadata": {},
   "outputs": [],
   "source": [
    "# filtris apply dataframeze\n",
    "filtered_data = survey_data[filter_condition]"
   ]
  },
  {
   "cell_type": "code",
   "execution_count": 10,
   "id": "6dae674f-2ee1-4fe5-9ea2-26aa4c1e06fe",
   "metadata": {},
   "outputs": [
    {
     "name": "stdout",
     "output_type": "stream",
     "text": [
      "Filtered table based on 'MainBranch' and 'Q120' parameters:\n",
      "Empty DataFrame\n",
      "Columns: [Q120, MainBranch, Age, Employment, RemoteWork, CodingActivities, EdLevel, LearnCode, LearnCodeOnline, LearnCodeCoursesCert, YearsCode, YearsCodePro, DevType, OrgSize, PurchaseInfluence, TechList, BuyNewTool, Country, Currency, CompTotal, LanguageHaveWorkedWith, LanguageWantToWorkWith, DatabaseHaveWorkedWith, DatabaseWantToWorkWith, PlatformHaveWorkedWith, PlatformWantToWorkWith, WebframeHaveWorkedWith, WebframeWantToWorkWith, MiscTechHaveWorkedWith, MiscTechWantToWorkWith, ToolsTechHaveWorkedWith, ToolsTechWantToWorkWith, NEWCollabToolsHaveWorkedWith, NEWCollabToolsWantToWorkWith, OpSysPersonal use, OpSysProfessional use, OfficeStackAsyncHaveWorkedWith, OfficeStackAsyncWantToWorkWith, OfficeStackSyncHaveWorkedWith, OfficeStackSyncWantToWorkWith, AISearchHaveWorkedWith, AISearchWantToWorkWith, AIDevHaveWorkedWith, AIDevWantToWorkWith, NEWSOSites, SOVisitFreq, SOAccount, SOPartFreq, SOComm, SOAI, AISelect, AISent, AIAcc, AIBen, AIToolInterested in Using, AIToolCurrently Using, AIToolNot interested in Using, AINextVery different, AINextNeither different nor similar, AINextSomewhat similar, AINextVery similar, AINextSomewhat different, TBranch, ICorPM, WorkExp, Knowledge_1, Knowledge_2, Knowledge_3, Knowledge_4, Knowledge_5, Knowledge_6, Knowledge_7, Knowledge_8, Frequency_1, Frequency_2, Frequency_3, TimeSearching, TimeAnswering, ProfessionalTech, Industry, SurveyLength, SurveyEase, ConvertedCompYearly]\n",
      "Index: []\n",
      "\n",
      "[0 rows x 83 columns]\n"
     ]
    }
   ],
   "source": [
    "# shesabamisi cxrilis dabechdva\n",
    "print(\"Filtered table based on 'MainBranch' and 'Q120' parameters:\")\n",
    "print(filtered_data)"
   ]
  },
  {
   "cell_type": "code",
   "execution_count": 11,
   "id": "0b543de2-8020-44f1-af0b-78a127fc7072",
   "metadata": {},
   "outputs": [],
   "source": [
    "#dasortireba\n",
    "sorted_data = filtered_data.sort_values(by=['MainBranch', 'Q120'])"
   ]
  },
  {
   "cell_type": "code",
   "execution_count": 12,
   "id": "addae8ae-25f5-43ee-b8b7-0ad1aec1c8d7",
   "metadata": {},
   "outputs": [
    {
     "name": "stdout",
     "output_type": "stream",
     "text": [
      "Sorted table based on 'MainBranch' and 'Q120' parameters:\n",
      "Empty DataFrame\n",
      "Columns: [Q120, MainBranch, Age, Employment, RemoteWork, CodingActivities, EdLevel, LearnCode, LearnCodeOnline, LearnCodeCoursesCert, YearsCode, YearsCodePro, DevType, OrgSize, PurchaseInfluence, TechList, BuyNewTool, Country, Currency, CompTotal, LanguageHaveWorkedWith, LanguageWantToWorkWith, DatabaseHaveWorkedWith, DatabaseWantToWorkWith, PlatformHaveWorkedWith, PlatformWantToWorkWith, WebframeHaveWorkedWith, WebframeWantToWorkWith, MiscTechHaveWorkedWith, MiscTechWantToWorkWith, ToolsTechHaveWorkedWith, ToolsTechWantToWorkWith, NEWCollabToolsHaveWorkedWith, NEWCollabToolsWantToWorkWith, OpSysPersonal use, OpSysProfessional use, OfficeStackAsyncHaveWorkedWith, OfficeStackAsyncWantToWorkWith, OfficeStackSyncHaveWorkedWith, OfficeStackSyncWantToWorkWith, AISearchHaveWorkedWith, AISearchWantToWorkWith, AIDevHaveWorkedWith, AIDevWantToWorkWith, NEWSOSites, SOVisitFreq, SOAccount, SOPartFreq, SOComm, SOAI, AISelect, AISent, AIAcc, AIBen, AIToolInterested in Using, AIToolCurrently Using, AIToolNot interested in Using, AINextVery different, AINextNeither different nor similar, AINextSomewhat similar, AINextVery similar, AINextSomewhat different, TBranch, ICorPM, WorkExp, Knowledge_1, Knowledge_2, Knowledge_3, Knowledge_4, Knowledge_5, Knowledge_6, Knowledge_7, Knowledge_8, Frequency_1, Frequency_2, Frequency_3, TimeSearching, TimeAnswering, ProfessionalTech, Industry, SurveyLength, SurveyEase, ConvertedCompYearly]\n",
      "Index: []\n",
      "\n",
      "[0 rows x 83 columns]\n"
     ]
    }
   ],
   "source": [
    "# dasortirebuli cxrilis gamotana\n",
    "print(\"Sorted table based on 'MainBranch' and 'Q120' parameters:\")\n",
    "print(sorted_data)"
   ]
  },
  {
   "cell_type": "code",
   "execution_count": 13,
   "id": "d65c0c20-68f0-4d9d-9d91-a0c2ac9ee5c1",
   "metadata": {},
   "outputs": [],
   "source": [
    "# statistikis gamotvla\n",
    "column_stats = survey_data[['CompTotal']].agg(['mean', 'std', 'median', 'min', 'max'])"
   ]
  },
  {
   "cell_type": "code",
   "execution_count": 14,
   "id": "8c0f18ef-b9dc-4175-83e6-64187c7ce4b8",
   "metadata": {},
   "outputs": [
    {
     "name": "stdout",
     "output_type": "stream",
     "text": [
      "Statistical summary for specific columns:\n",
      "           CompTotal\n",
      "mean    1.036807e+42\n",
      "std     2.276847e+44\n",
      "median  1.150000e+05\n",
      "min     0.000000e+00\n",
      "max     5.000000e+46\n"
     ]
    }
   ],
   "source": [
    "print(\"Statistical summary for specific columns:\")\n",
    "print(column_stats)"
   ]
  },
  {
   "cell_type": "code",
   "execution_count": 15,
   "id": "fb513544-a8f8-4dc5-82d6-e0c270c3d5e8",
   "metadata": {},
   "outputs": [],
   "source": [
    "import numpy as np"
   ]
  },
  {
   "cell_type": "code",
   "execution_count": 16,
   "id": "4bfd6344-e0ce-43cf-ae6b-5c508dd9c18e",
   "metadata": {},
   "outputs": [],
   "source": [
    "import matplotlib.pyplot as plt"
   ]
  },
  {
   "cell_type": "code",
   "execution_count": 17,
   "id": "914bc54f-f28b-49ed-86b1-7d07d2fc00f2",
   "metadata": {},
   "outputs": [],
   "source": [
    "survey_data = pd.read_csv(\"survey_results_public.csv\")"
   ]
  },
  {
   "cell_type": "code",
   "execution_count": 18,
   "id": "d7a6aff2-45b1-40b7-885a-43e8ec8424b6",
   "metadata": {},
   "outputs": [],
   "source": [
    "categories = ['Age', 'YearsCode']\n",
    "values = np.random.randint(1, 10, size=len(categories))\n",
    "line_values = np.arange(len(categories)) * 10"
   ]
  },
  {
   "cell_type": "code",
   "execution_count": 19,
   "id": "92ee3a52-d4eb-4ded-944f-1d2c40670a9f",
   "metadata": {},
   "outputs": [
    {
     "data": {
      "image/png": "[encoded data removed]",
      "text/plain": [
       "<Figure size 800x600 with 1 Axes>"
      ]
     },
     "metadata": {},
     "output_type": "display_data"
    }
   ],
   "source": [
    "# bar diagramis sheqmna Age da YearsCode svetebze dafudznebit\n",
    "plt.figure(figsize=(8, 6))\n",
    "plt.bar(categories, values, color='blue')\n",
    "plt.title('Bar Diagram')\n",
    "plt.xlabel('Categories')\n",
    "plt.ylabel('Values')\n",
    "plt.xticks(rotation=45)\n",
    "plt.grid(True)\n",
    "plt.tight_layout()\n",
    "plt.show()"
   ]
  },
  {
   "cell_type": "code",
   "execution_count": 21,
   "id": "30d5653d-80c4-4b41-b086-c8cd1e9ad714",
   "metadata": {},
   "outputs": [
    {
     "data": {
      "image/png": "[encoded data removed]",
      "text/plain": [
       "<Figure size 800x600 with 1 Axes>"
      ]
     },
     "metadata": {},
     "output_type": "display_data"
    }
   ],
   "source": [
    "# Khazovani diagerama\n",
    "plt.figure(figsize=(8, 6))\n",
    "plt.plot(categories, line_values, marker='o', color='green', linestyle='-', linewidth=2, markersize=8)\n",
    "plt.title('Line Diagram')\n",
    "plt.xlabel('Categories')\n",
    "plt.ylabel('Values')\n",
    "plt.xticks(rotation=45)\n",
    "plt.grid(True)\n",
    "plt.tight_layout()\n",
    "plt.show()"
   ]
  },
  {
   "cell_type": "code",
   "execution_count": null,
   "id": "04db7d65-c3ea-4cf4-865b-876ac7982791",
   "metadata": {},
   "outputs": [],
   "source": []
  }
 ],
 "metadata": {
  "kernelspec": {
   "display_name": "Python 3 (ipykernel)",
   "language": "python",
   "name": "python3"
  },
  "language_info": {
   "codemirror_mode": {
    "name": "ipython",
    "version": 3
   },
   "file_extension": ".py",
   "mimetype": "text/x-python",
   "name": "python",
   "nbconvert_exporter": "python",
   "pygments_lexer": "ipython3",
   "version": "3.11.7"
  }
 },
 "nbformat": 4,
 "nbformat_minor": 5
}
